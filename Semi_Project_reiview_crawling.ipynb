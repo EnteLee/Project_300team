{
 "cells": [
  {
   "cell_type": "code",
   "execution_count": 19,
   "metadata": {},
   "outputs": [],
   "source": [
    "from bs4 import BeautifulSoup\n",
    "from selenium import webdriver\n",
    "from IPython.display import Image\n",
    "from urllib.request import urlopen\n",
    "import pandas as pd\n",
    "\n",
    "import re"
   ]
  },
  {
   "cell_type": "code",
   "execution_count": 20,
   "metadata": {},
   "outputs": [],
   "source": [
    "driver_path = \"driver/chromedriver.exe\"\n",
    "driver = webdriver.Chrome(executable_path=driver_path)"
   ]
  },
  {
   "cell_type": "code",
   "execution_count": 21,
   "metadata": {},
   "outputs": [],
   "source": [
    "url_page = 'https://movie.naver.com/'\n",
    "driver.get(url_page)"
   ]
  },
  {
   "cell_type": "code",
   "execution_count": 22,
   "metadata": {},
   "outputs": [],
   "source": [
    "driver.find_element_by_css_selector('#ipt_tx_srch').send_keys('완벽한타인')"
   ]
  },
  {
   "cell_type": "code",
   "execution_count": 23,
   "metadata": {},
   "outputs": [],
   "source": [
    "driver.find_element_by_css_selector('#jAutoMV > ul > li:nth-child(1) > a > p > img').click()"
   ]
  },
  {
   "cell_type": "code",
   "execution_count": 24,
   "metadata": {},
   "outputs": [],
   "source": [
    "driver.find_element_by_css_selector('#movieEndTabMenu > li:nth-child(6) > a').click()"
   ]
  },
  {
   "cell_type": "code",
   "execution_count": 25,
   "metadata": {},
   "outputs": [],
   "source": [
    "driver.find_element_by_css_selector('#reviewTab > div > div > ul > li:nth-child(1) > a > strong').click()"
   ]
  },
  {
   "cell_type": "code",
   "execution_count": null,
   "metadata": {},
   "outputs": [],
   "source": [
    "current_url = driver.current_url\n",
    "current_url"
   ]
  },
  {
   "cell_type": "code",
   "execution_count": 26,
   "metadata": {},
   "outputs": [],
   "source": [
    "html = driver.page_source\n",
    "soup = BeautifulSoup(html, \"lxml\")"
   ]
  },
  {
   "cell_type": "code",
   "execution_count": 27,
   "metadata": {},
   "outputs": [
    {
     "data": {
      "text/plain": [
       "[<div class=\"user_tx_area\">\n",
       " <p align=\"left\">어느지역 어느극장이 얼마나 이른 시간에 개봉을 했으면 9시때부터 평점 10점이 줄줄이 달릴까? ㅋㅋㅋㅋㅋㅋㅋㅋㅋㅋㅋㅋㅋㅋㅋㅋㅋㅋ결론만 말하면..평점 믿지마라.. 그리고 진짜 보지마라.. 시간 아깝다..선발대 말을 믿어라..총대 메고 시간 버려가며 관람후 진심된 마음으로 쓰는거다..진짜 억지 웃음코드= 유치함.. 웃긴 장면이라고 나왔는데 60명중 10명 웃는거 같다..영화 보는 도중 지루해서 주변 두리번 거렸는데 옆에 고등학생들 계속 무표정으로 보더라..보는건 본인 자유니 안말린다..좀 모자른 애들은 이 영화가 재미있을수도있다.. 본인이 재미있었다고 남한테 추천하지 말자.. 욕먹는다..</p><p align=\"left\"></p><p align=\"left\"><img height=\"339\" src=\"https://movie-phinf.pstatic.net/20181022_48/1540171497590zwuxL_JPEG/movie_image.jpg\" width=\"480\"/></p><p></p>\n",
       " </div>]"
      ]
     },
     "execution_count": 27,
     "metadata": {},
     "output_type": "execute_result"
    }
   ],
   "source": [
    "tmp = soup.find_all('div', 'user_tx_area')\n",
    "tmp"
   ]
  },
  {
   "cell_type": "code",
   "execution_count": 28,
   "metadata": {},
   "outputs": [
    {
     "data": {
      "text/plain": [
       "'\\n어느지역 어느극장이 얼마나 이른 시간에 개봉을 했으면 9시때부터 평점 10점이 줄줄이 달릴까? ㅋㅋㅋㅋㅋㅋㅋㅋㅋㅋㅋㅋㅋㅋㅋㅋㅋㅋ결론만 말하면..평점 믿지마라.. 그리고 진짜 보지마라.. 시간 아깝다..선발대 말을 믿어라..총대 메고 시간 버려가며 관람후 진심된 마음으로 쓰는거다..진짜 억지 웃음코드= 유치함.. 웃긴 장면이라고 나왔는데 60명중 10명 웃는거 같다..영화 보는 도중 지루해서 주변 두리번 거렸는데 옆에 고등학생들 계속 무표정으로 보더라..보는건 본인 자유니 안말린다..좀 모자른 애들은 이 영화가 재미있을수도있다.. 본인이 재미있었다고 남한테 추천하지 말자.. 욕먹는다..\\n'"
      ]
     },
     "execution_count": 28,
     "metadata": {},
     "output_type": "execute_result"
    }
   ],
   "source": [
    "tmp[0].get_text()"
   ]
  },
  {
   "cell_type": "code",
   "execution_count": null,
   "metadata": {},
   "outputs": [],
   "source": []
  }
 ],
 "metadata": {
  "kernelspec": {
   "display_name": "Python 3",
   "language": "python",
   "name": "python3"
  },
  "language_info": {
   "codemirror_mode": {
    "name": "ipython",
    "version": 3
   },
   "file_extension": ".py",
   "mimetype": "text/x-python",
   "name": "python",
   "nbconvert_exporter": "python",
   "pygments_lexer": "ipython3",
   "version": "3.6.5"
  }
 },
 "nbformat": 4,
 "nbformat_minor": 2
}
